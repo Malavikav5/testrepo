{
 "cells": [
  {
   "cell_type": "code",
   "execution_count": null,
   "id": "1b111fcf-e13e-4ca0-9786-ad406848aef3",
   "metadata": {},
   "outputs": [],
   "source": []
  },
  {
   "cell_type": "markdown",
   "id": "183d902e-600c-47b0-8be8-2372b6c95849",
   "metadata": {},
   "source": [
    "# Datascience Tools and Ecosystem"
   ]
  },
  {
   "cell_type": "markdown",
   "id": "77269579-868d-4336-8df2-89dcb5dc0670",
   "metadata": {},
   "source": [
    "In this notebook, Datascience Tools and Ecosystem are summarized."
   ]
  },
  {
   "cell_type": "markdown",
   "id": "af203520-401c-4016-bd48-cff07fd98a4b",
   "metadata": {},
   "source": [
    "**Objectives**"
   ]
  },
  {
   "cell_type": "markdown",
   "id": "33b0f9ff-a20a-4e7a-aec7-73d4b9e1eb9f",
   "metadata": {},
   "source": [
    "\n",
    "Below are the key topics covered in this notebook:\n",
    "- List popular languages for Data Science.\n",
    "- Understand basic data structures in python.\n",
    "- Learn how to create and interpret data visualization."
   ]
  },
  {
   "cell_type": "markdown",
   "id": "34d7f798-5cec-45b5-8307-4670f9b1112a",
   "metadata": {},
   "source": [
    "Some of the popular languages that Data Scientists use are:"
   ]
  },
  {
   "cell_type": "markdown",
   "id": "c95ab94c-8ac8-456c-bdc1-c114a666200d",
   "metadata": {},
   "source": [
    "1. Python\n",
    "2. R\n",
    "3. SQL\n"
   ]
  },
  {
   "cell_type": "markdown",
   "id": "7e0aa095-6e9b-496f-bcfd-5eff727c1021",
   "metadata": {},
   "source": [
    "Some of the commonly used libraries used by Data Scientits include:"
   ]
  },
  {
   "cell_type": "markdown",
   "id": "4d3473bd-ce7e-4cc1-b3ca-8f6f52866490",
   "metadata": {},
   "source": [
    "1. NumPy\n",
    "2. Pandas\n",
    "3. Matplotlib"
   ]
  },
  {
   "cell_type": "markdown",
   "id": "f192db79-164b-481d-9ac3-dd83f27311be",
   "metadata": {},
   "source": [
    "| Data Science Tools |\n",
    "|:------:|\n",
    "| Python  |\n",
    "| R  |\n",
    "| Jupyter Notebooks  |\n"
   ]
  },
  {
   "cell_type": "markdown",
   "id": "7d50d68d-e3e2-41bc-908b-38b1fc7e0cfe",
   "metadata": {},
   "source": [
    "### Below are some examples of evaluating arithmetic expressions in Python\n"
   ]
  },
  {
   "cell_type": "markdown",
   "id": "d7ce21d8-dd69-4f6f-8957-a24cbb1a5417",
   "metadata": {},
   "source": [
    "This a simple arithmetic expression to multiply then add integers\n"
   ]
  },
  {
   "cell_type": "code",
   "execution_count": 4,
   "id": "2d741dc6-b74d-442f-a3b7-e8ee2b7db6e9",
   "metadata": {},
   "outputs": [
    {
     "data": {
      "text/plain": [
       "17"
      ]
     },
     "execution_count": 4,
     "metadata": {},
     "output_type": "execute_result"
    }
   ],
   "source": [
    "(3*4)+5"
   ]
  },
  {
   "cell_type": "markdown",
   "id": "11be851b-d369-42e5-b53c-dd8aa5c08d0f",
   "metadata": {},
   "source": [
    "This will convert 200 minutes to hours by dividing by 60"
   ]
  },
  {
   "cell_type": "code",
   "execution_count": 6,
   "id": "f08b16af-a835-43cf-8694-226989a48788",
   "metadata": {},
   "outputs": [
    {
     "data": {
      "text/plain": [
       "3.3333333333333335"
      ]
     },
     "execution_count": 6,
     "metadata": {},
     "output_type": "execute_result"
    }
   ],
   "source": [
    "200/60"
   ]
  },
  {
   "cell_type": "markdown",
   "id": "22244a8a-c1c1-4682-8aa1-31c774713881",
   "metadata": {},
   "source": [
    "## Authour"
   ]
  }
 ],
 "metadata": {
  "kernelspec": {
   "display_name": "Python 3 (ipykernel)",
   "language": "python",
   "name": "python3"
  },
  "language_info": {
   "codemirror_mode": {
    "name": "ipython",
    "version": 3
   },
   "file_extension": ".py",
   "mimetype": "text/x-python",
   "name": "python",
   "nbconvert_exporter": "python",
   "pygments_lexer": "ipython3",
   "version": "3.12.8"
  }
 },
 "nbformat": 4,
 "nbformat_minor": 5
}
